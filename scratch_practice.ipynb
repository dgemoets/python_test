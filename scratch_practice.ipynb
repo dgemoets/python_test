{
 "cells": [
  {
   "cell_type": "code",
   "execution_count": null,
   "metadata": {},
   "outputs": [],
   "source": [
    "# working through https://www.datacamp.com/tutorial/python-tips-examples"
   ]
  },
  {
   "cell_type": "code",
   "execution_count": null,
   "metadata": {},
   "outputs": [],
   "source": [
    "#a = \"Hello World!\"\n",
    "a = list(range(1,10))\n",
    "#print(a[::-1])\n",
    "#print(a[2:-3])\n",
    "#print(a[:-3])\n",
    "print(a)\n",
    "print(a[0:6:2])  # start:stop:step\n",
    "print(a[-2:])  \n",
    "print(a[:-2]) \n",
    "print(a[-3:0:1]) \n",
    "print(a[-3:-1:1]) \n",
    "\n"
   ]
  },
  {
   "cell_type": "code",
   "execution_count": null,
   "metadata": {},
   "outputs": [],
   "source": [
    "a = 10\n",
    "b = 5\n",
    "print(f\"First: {a, b}\")\n",
    "\n",
    "\n",
    "a, b = b, a + 2\n",
    "print(f\"Second: {a, b}\")"
   ]
  },
  {
   "cell_type": "code",
   "execution_count": 8,
   "metadata": {},
   "outputs": [
    {
     "name": "stdout",
     "output_type": "stream",
     "text": [
      "1 [2, 3]\n",
      "[1, 2, 3]\n"
     ]
    }
   ],
   "source": [
    "# To unlist\n",
    "# \n",
    "a, b, c = [1, 2, 3]\n",
    "#print(a)\n",
    "#print(b)\n",
    "#print(c)\n",
    "\n",
    "a, *b = 1, 2, 3\n",
    "#b = 1, 2, 3\n",
    "#rint(b)\n",
    "print(a, b)\n",
    "\n",
    "*c ,= 1, 2, 3\n",
    "print(c)"
   ]
  },
  {
   "cell_type": "code",
   "execution_count": 2,
   "metadata": {},
   "outputs": [
    {
     "ename": "SyntaxError",
     "evalue": "invalid syntax (338100177.py, line 1)",
     "output_type": "error",
     "traceback": [
      "\u001b[1;36m  File \u001b[1;32m\"C:\\Users\\dgemo\\AppData\\Local\\Temp\\ipykernel_44576\\338100177.py\"\u001b[1;36m, line \u001b[1;32m1\u001b[0m\n\u001b[1;33m    a, b* = 1, 2, 3\u001b[0m\n\u001b[1;37m          ^\u001b[0m\n\u001b[1;31mSyntaxError\u001b[0m\u001b[1;31m:\u001b[0m invalid syntax\n"
     ]
    }
   ],
   "source": []
  },
  {
   "cell_type": "code",
   "execution_count": 11,
   "metadata": {},
   "outputs": [
    {
     "name": "stdout",
     "output_type": "stream",
     "text": [
      "List size: 120 bytes\n",
      "Tuple size: 80 bytes\n",
      "[1, 2, 8, 4, 5]\n"
     ]
    }
   ],
   "source": [
    "# import sys  # not needed I guess\n",
    "a = [1, 2, 3, 4, 5]\n",
    "b = (1, 2, 3, 4, 5)  #  less memory, not dynamically allocated\n",
    "\n",
    "print(f\"List size: {sys.getsizeof(a)} bytes\")\n",
    "print(f\"Tuple size: {sys.getsizeof(b)} bytes\")\n",
    "\n",
    "# mutable\n",
    "a = [1,2,3,4,5]\n",
    "a[2] = 8\n",
    "print(a)"
   ]
  }
 ],
 "metadata": {
  "kernelspec": {
   "display_name": "base",
   "language": "python",
   "name": "python3"
  },
  "language_info": {
   "codemirror_mode": {
    "name": "ipython",
    "version": 3
   },
   "file_extension": ".py",
   "mimetype": "text/x-python",
   "name": "python",
   "nbconvert_exporter": "python",
   "pygments_lexer": "ipython3",
   "version": "3.9.13 (main, Aug 25 2022, 23:51:50) [MSC v.1916 64 bit (AMD64)]"
  },
  "orig_nbformat": 4,
  "vscode": {
   "interpreter": {
    "hash": "73d4cee8668b60d4c15e16ab2d93b5825b8c510bf0bf67487e71446a94bfd65e"
   }
  }
 },
 "nbformat": 4,
 "nbformat_minor": 2
}
